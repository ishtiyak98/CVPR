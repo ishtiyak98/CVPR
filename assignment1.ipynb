{
  "nbformat": 4,
  "nbformat_minor": 0,
  "metadata": {
    "colab": {
      "name": "assignment1.ipynb",
      "provenance": [],
      "collapsed_sections": []
    },
    "kernelspec": {
      "name": "python3",
      "display_name": "Python 3"
    },
    "language_info": {
      "name": "python"
    }
  },
  "cells": [
    {
      "cell_type": "code",
      "metadata": {
        "id": "sPYoVO4DpGN2"
      },
      "source": [
        "import pandas as pd"
      ],
      "execution_count": 1,
      "outputs": []
    },
    {
      "cell_type": "code",
      "metadata": {
        "colab": {
          "base_uri": "https://localhost:8080/",
          "height": 203
        },
        "id": "biFA7-8T9Oai",
        "outputId": "b56257a9-f146-4e51-936e-3f5d399746ea"
      },
      "source": [
        "df = pd.read_csv('/content/data3.csv')\n",
        "df.head()"
      ],
      "execution_count": 2,
      "outputs": [
        {
          "output_type": "execute_result",
          "data": {
            "text/html": [
              "<div>\n",
              "<style scoped>\n",
              "    .dataframe tbody tr th:only-of-type {\n",
              "        vertical-align: middle;\n",
              "    }\n",
              "\n",
              "    .dataframe tbody tr th {\n",
              "        vertical-align: top;\n",
              "    }\n",
              "\n",
              "    .dataframe thead th {\n",
              "        text-align: right;\n",
              "    }\n",
              "</style>\n",
              "<table border=\"1\" class=\"dataframe\">\n",
              "  <thead>\n",
              "    <tr style=\"text-align: right;\">\n",
              "      <th></th>\n",
              "      <th>X1</th>\n",
              "      <th>X2</th>\n",
              "      <th>Y</th>\n",
              "    </tr>\n",
              "  </thead>\n",
              "  <tbody>\n",
              "    <tr>\n",
              "      <th>0</th>\n",
              "      <td>21</td>\n",
              "      <td>41</td>\n",
              "      <td>1</td>\n",
              "    </tr>\n",
              "    <tr>\n",
              "      <th>1</th>\n",
              "      <td>58</td>\n",
              "      <td>47</td>\n",
              "      <td>0</td>\n",
              "    </tr>\n",
              "    <tr>\n",
              "      <th>2</th>\n",
              "      <td>78</td>\n",
              "      <td>30</td>\n",
              "      <td>0</td>\n",
              "    </tr>\n",
              "    <tr>\n",
              "      <th>3</th>\n",
              "      <td>65</td>\n",
              "      <td>72</td>\n",
              "      <td>1</td>\n",
              "    </tr>\n",
              "    <tr>\n",
              "      <th>4</th>\n",
              "      <td>89</td>\n",
              "      <td>32</td>\n",
              "      <td>0</td>\n",
              "    </tr>\n",
              "  </tbody>\n",
              "</table>\n",
              "</div>"
            ],
            "text/plain": [
              "   X1  X2  Y\n",
              "0  21  41  1\n",
              "1  58  47  0\n",
              "2  78  30  0\n",
              "3  65  72  1\n",
              "4  89  32  0"
            ]
          },
          "metadata": {},
          "execution_count": 2
        }
      ]
    },
    {
      "cell_type": "code",
      "metadata": {
        "colab": {
          "base_uri": "https://localhost:8080/",
          "height": 268
        },
        "id": "oyZ9WvkG-_2Z",
        "outputId": "3b740172-cbb5-4782-a089-d6d804ad4709"
      },
      "source": [
        "import matplotlib.pyplot as plt\n",
        "\n",
        "X1 = df['X1'].values.tolist() \n",
        "X2 = df['X2'].values.tolist()\n",
        "Y = df['Y'].values.tolist()\n",
        "\n",
        "for i in range(len(Y)):\n",
        "    if Y[i] == 0:\n",
        "      plt.plot(X1[i], X2[i], 'r+')\n",
        "    else:\n",
        "      plt.plot(X1[i], X2[i], 'g+')\n",
        "\n",
        "\n",
        "plt.show()\n"
      ],
      "execution_count": 3,
      "outputs": [
        {
          "output_type": "display_data",
          "data": {
            "image/png": "[encoded data removed]",
            "text/plain": [
              "<Figure size 432x288 with 1 Axes>"
            ]
          },
          "metadata": {
            "needs_background": "light"
          }
        }
      ]
    },
    {
      "cell_type": "code",
      "metadata": {
        "id": "5hg1LQ6ABOXr"
      },
      "source": [
        "import random\n",
        "import math\n",
        "from IPython import display"
      ],
      "execution_count": 4,
      "outputs": []
    },
    {
      "cell_type": "code",
      "metadata": {
        "colab": {
          "base_uri": "https://localhost:8080/",
          "height": 281
        },
        "id": "E_LymWs_BWf4",
        "outputId": "35cf1ec7-5a9b-4052-895c-d0b898546162"
      },
      "source": [
        "W = [random.random(), random.random()]\n",
        "b = random.random()\n",
        "lr = 0.0001\n",
        "theta = 0.5\n",
        "epoch = 0\n",
        "count = 0\n",
        "\n",
        "while count < len(Y):\n",
        "  total_error = 0\n",
        "  for i in range(len(Y)):\n",
        "    ws = W[0]*X1[i] + W[1]*X2[i] + b\n",
        "    pred = 0\n",
        "    if ws > theta:\n",
        "      pred = 1\n",
        "    error = Y[i] - pred\n",
        "    if error != 0:\n",
        "      total_error += math.sqrt(error**2)\n",
        "      count = 0\n",
        "      W[0] += error * X1[i] * lr\n",
        "      W[1] += error * X2[i] * lr\n",
        "      b += error*lr   \n",
        "    else:\n",
        "      count += 1\n",
        "  plt.figure()\n",
        "  \n",
        "  display.clear_output(wait=True)\n",
        "  for i in range(len(Y)):\n",
        "    if Y[i] == 0:\n",
        "      plt.plot(X1[i], X2[i], 'r+')\n",
        "    else:\n",
        "      plt.plot(X1[i], X2[i], 'g+')\n",
        " \n",
        "    plt.xlim([0,100])\n",
        "    plt.ylim([0,100])\n",
        "\n",
        "    xint = (theta - b) / W[0]\n",
        "    yint = (theta - b) / W[1]\n",
        "    slope = -yint / xint\n",
        "    x = plt.xlim()\n",
        "    y =  []\n",
        "    for i in x:\n",
        "      y.append(slope*i+ yint)\n",
        "\n",
        "    plt.plot(x, y,)\n",
        "    \n",
        "    ax=plt.axes()\n",
        "    ax.set_facecolor((0.0, 1.0, 0.0, 0.4))\n",
        "    plt.fill_between(x, y, color='#ffaf9d')\n",
        "    plt.title(f\"Epoch = {epoch} Loss = {total_error}\")\n",
        "    \n",
        "  plt.show()\n",
        "  epoch +=1"
      ],
      "execution_count": 5,
      "outputs": [
        {
          "output_type": "display_data",
          "data": {
            "image/png": "[encoded data removed]",
            "text/plain": [
              "<Figure size 432x288 with 1 Axes>"
            ]
          },
          "metadata": {
            "needs_background": "light"
          }
        }
      ]
    }
  ]
}